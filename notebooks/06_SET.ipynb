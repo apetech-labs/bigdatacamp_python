{
 "cells": [
  {
   "cell_type": "markdown",
   "id": "9a549c26",
   "metadata": {},
   "source": [
    "## 집합(set)\n",
    "- 수학의 집합과 비슷한 형태로 데이터가 중복되는 것을 허용하지 않는 장점이 있다.\n",
    "- 데이터를 입력하는 순서와 실제로 데이터가 저장되는 순서가 달라서 인덱싱과 슬라이싱이 불가능하다.\n",
    "- 딕셔너리처럼 {}를 사용해서 선언하지만 key값은 없고 value값만 존재한다."
   ]
  },
  {
   "cell_type": "code",
   "execution_count": 2,
   "id": "9baf4ba9",
   "metadata": {},
   "outputs": [
    {
     "name": "stdout",
     "output_type": "stream",
     "text": [
      "{} set()\n",
      "<class 'dict'> <class 'set'>\n"
     ]
    }
   ],
   "source": [
    "# 빈 set을 만들기 위해서는 반드시 생성자 함수를 이용해서 만들어야 한다.\n",
    "a = {}\n",
    "b = set()\n",
    "print(a, b)\n",
    "print(type(a), type(b))"
   ]
  },
  {
   "cell_type": "code",
   "execution_count": 1,
   "id": "7d673950",
   "metadata": {},
   "outputs": [
    {
     "ename": "SyntaxError",
     "evalue": "invalid syntax (316511535.py, line 1)",
     "output_type": "error",
     "traceback": [
      "\u001b[1;36m  Cell \u001b[1;32mIn[1], line 1\u001b[1;36m\u001b[0m\n\u001b[1;33m    b = set{}\u001b[0m\n\u001b[1;37m           ^\u001b[0m\n\u001b[1;31mSyntaxError\u001b[0m\u001b[1;31m:\u001b[0m invalid syntax\n"
     ]
    }
   ],
   "source": [
    "b = set{}\n",
    "print(b)\n",
    "print(type(b))"
   ]
  },
  {
   "cell_type": "code",
   "execution_count": 3,
   "id": "503a3936",
   "metadata": {},
   "outputs": [
    {
     "name": "stdout",
     "output_type": "stream",
     "text": [
      "{1, 2, 3, 4}\n",
      "<class 'set'>\n"
     ]
    }
   ],
   "source": [
    "a = {1, 2, 3, 4}\n",
    "print(a)\n",
    "print(type(a))"
   ]
  },
  {
   "cell_type": "code",
   "execution_count": 9,
   "id": "2c653957",
   "metadata": {},
   "outputs": [
    {
     "name": "stdout",
     "output_type": "stream",
     "text": [
      "{'이대호'}\n",
      "{'이대호', '이정후'}\n",
      "{'박동원', '이대호', '이정후'}\n",
      "{'박동원', '최정', '이대호', '이정후'}\n"
     ]
    }
   ],
   "source": [
    "# add() 를 이용하여 set에 데이터를추가한다. => 데이터를 저장하는 순서와 실제 데이터가 저장되는 순서는 다르다.\n",
    "baseball = {'이대호'}\n",
    "print(baseball)\n",
    "baseball.add('이정후')\n",
    "print(baseball)\n",
    "baseball.add('박동원')\n",
    "print(baseball)\n",
    "baseball.add('최정')\n",
    "print(baseball)\n",
    "\n",
    "# print(a[0])"
   ]
  },
  {
   "cell_type": "code",
   "execution_count": 11,
   "id": "03ca9aa9",
   "metadata": {},
   "outputs": [
    {
     "name": "stdout",
     "output_type": "stream",
     "text": [
      "{'이대호'}\n",
      "{'류현진', '박찬호', '이대호', '이정후'}\n",
      "{'류현진', '이대호', '이정후'}\n"
     ]
    }
   ],
   "source": [
    "# update()를 이용하면 리스트, 튜플을 이용해 set에 여러 건의 데이터를 한번에 추가할 수 있다.\n",
    "baseball = {'이대호'}\n",
    "print(baseball)\n",
    "baseball.update(['이정후', '류현진', '박찬호'])\n",
    "print(baseball)\n",
    "\n",
    "# remove()를 이용하여 set에 저장된 데이터를 지정해서 제거할 수 있다.\n",
    "baseball.remove('박찬호')\n",
    "print(baseball)"
   ]
  },
  {
   "cell_type": "code",
   "execution_count": 20,
   "id": "704dfdeb",
   "metadata": {},
   "outputs": [
    {
     "name": "stdout",
     "output_type": "stream",
     "text": [
      "{1, 2, 3, 4, 5, 6, 7}\n",
      "{1, 2, 3, 4, 5, 6, 7}\n",
      "==================================================\n",
      "{3, 4, 5}\n",
      "{3, 4, 5}\n",
      "==================================================\n",
      "{1, 2}\n",
      "{1, 2}\n",
      "==================================================\n",
      "{1, 2, 6, 7}\n",
      "{1, 2, 6, 7}\n"
     ]
    }
   ],
   "source": [
    "# 집합 연산자와 메소드\n",
    "a = {1, 2, 3, 4, 5}\n",
    "b = {3, 4, 5, 6, 7}\n",
    "\n",
    "# 합집합\n",
    "print(a.union(b))\n",
    "print(a | b)\n",
    "print('=' * 50)\n",
    "\n",
    "# 교집합\n",
    "print(a.intersection(b))\n",
    "print(a & b)\n",
    "print('=' * 50)\n",
    "\n",
    "# 차집합\n",
    "print(a.difference(b))\n",
    "print(a - b)\n",
    "print('=' * 50)\n",
    "\n",
    "# 대칭차집합(합집합 - 교집합)\n",
    "print(a.symmetric_difference(b))\n",
    "print(a ^ b)\n",
    "print((a|b) - )"
   ]
  },
  {
   "cell_type": "code",
   "execution_count": null,
   "id": "73e2642b",
   "metadata": {},
   "outputs": [],
   "source": []
  },
  {
   "cell_type": "code",
   "execution_count": null,
   "id": "3636e652",
   "metadata": {},
   "outputs": [],
   "source": []
  },
  {
   "cell_type": "code",
   "execution_count": null,
   "id": "0beaa8bd",
   "metadata": {},
   "outputs": [],
   "source": []
  },
  {
   "cell_type": "code",
   "execution_count": null,
   "id": "8a7b4957",
   "metadata": {},
   "outputs": [],
   "source": []
  }
 ],
 "metadata": {
  "kernelspec": {
   "display_name": "Python 3 (ipykernel)",
   "language": "python",
   "name": "python3"
  },
  "language_info": {
   "codemirror_mode": {
    "name": "ipython",
    "version": 3
   },
   "file_extension": ".py",
   "mimetype": "text/x-python",
   "name": "python",
   "nbconvert_exporter": "python",
   "pygments_lexer": "ipython3",
   "version": "3.9.7"
  }
 },
 "nbformat": 4,
 "nbformat_minor": 5
}
