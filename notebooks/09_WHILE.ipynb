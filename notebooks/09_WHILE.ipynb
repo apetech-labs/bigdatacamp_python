{
 "cells": [
  {
   "cell_type": "markdown",
   "id": "c7c87df0",
   "metadata": {},
   "source": [
    "## 반복문(while)\n",
    "while은 조건이 참인 동안 반복하다가 조건이 거짓이 되는 순간 반복이 종료된다.  \n",
    "while로 진입하는 최초 조건이 거짓일 경우 한 번도 반복을 실행하지 않는다.  \n",
    "for는 반복을 몇 번 해야하는지 아는 경우 사용하고 while은 반복을 하기는 해야겠는데 몇 번 해야하는지 정확히 모를 경우 사용한다.  \n",
    "***  \n",
    "while 조건식:  \n",
    "&nbsp;&nbsp;&nbsp;&nbsp;조건식이 참일 경우 실행할 문장  \n",
    "&nbsp;&nbsp;&nbsp;&nbsp;..."
   ]
  },
  {
   "cell_type": "code",
   "execution_count": 3,
   "id": "b47f0ce7",
   "metadata": {},
   "outputs": [
    {
     "name": "stdout",
     "output_type": "stream",
     "text": [
      "1~10의 합계: 55\n"
     ]
    }
   ],
   "source": [
    "# 1 ~ 10의 합계\n",
    "total = 0\n",
    "for i in range(1, 11):\n",
    "    total += i\n",
    "print(f'1~10의 합계: {total}')"
   ]
  },
  {
   "cell_type": "code",
   "execution_count": 4,
   "id": "f4cc9292",
   "metadata": {},
   "outputs": [
    {
     "name": "stdout",
     "output_type": "stream",
     "text": [
      "1~10의 합계: 55\n"
     ]
    }
   ],
   "source": [
    "i = 0\n",
    "total = 0\n",
    "while i <10:\n",
    "    i += 1\n",
    "    total += i\n",
    "print(f'1~10의 합계: {total}')"
   ]
  },
  {
   "cell_type": "code",
   "execution_count": 1,
   "id": "5b361432",
   "metadata": {},
   "outputs": [
    {
     "name": "stdout",
     "output_type": "stream",
     "text": [
      "유비가 제갈량을 1번 찾아갔습니다.\n",
      "유비가 제갈량을 2번 찾아갔습니다.\n",
      "유비가 제갈량을 3번 찾아갔습니다.\n",
      "제갈량이 유비의 부하가 되었습니다.\n"
     ]
    }
   ],
   "source": [
    "sam = 0\n",
    "while sam< 3:\n",
    "    sam += 1\n",
    "    print(f\"유비가 제갈량을 {sam}번 찾아갔습니다.\")\n",
    "    #if sam == 3:\n",
    "        #print(f\"제갈량이 유비의 부하가 되었습니다.\")\n",
    "print(f\"제갈량이 유비의 부하가 되었습니다.\")"
   ]
  },
  {
   "cell_type": "code",
   "execution_count": 13,
   "id": "8376b6e3",
   "metadata": {},
   "outputs": [
    {
     "ename": "KeyboardInterrupt",
     "evalue": "",
     "output_type": "error",
     "traceback": [
      "\u001b[1;31m---------------------------------------------------------------------------\u001b[0m",
      "\u001b[1;31mKeyboardInterrupt\u001b[0m                         Traceback (most recent call last)",
      "\u001b[1;32m~\\AppData\\Local\\Temp/ipykernel_5944/1686200490.py\u001b[0m in \u001b[0;36m<module>\u001b[1;34m\u001b[0m\n\u001b[0;32m      1\u001b[0m \u001b[0mnum\u001b[0m \u001b[1;33m=\u001b[0m \u001b[1;36m0\u001b[0m\u001b[1;33m\u001b[0m\u001b[1;33m\u001b[0m\u001b[0m\n\u001b[0;32m      2\u001b[0m \u001b[1;32mwhile\u001b[0m \u001b[1;32mTrue\u001b[0m\u001b[1;33m:\u001b[0m\u001b[1;33m\u001b[0m\u001b[1;33m\u001b[0m\u001b[0m\n\u001b[1;32m----> 3\u001b[1;33m     \u001b[0mnum\u001b[0m \u001b[1;33m+=\u001b[0m \u001b[1;36m1\u001b[0m\u001b[1;33m\u001b[0m\u001b[1;33m\u001b[0m\u001b[0m\n\u001b[0m",
      "\u001b[1;31mKeyboardInterrupt\u001b[0m: "
     ]
    }
   ],
   "source": [
    "# while 반복문은 탈출을 따로 지정해주지 않으면 무한하게 반복한다.\n",
    "num = 0\n",
    "while True:\n",
    "    num += 1"
   ]
  },
  {
   "cell_type": "code",
   "execution_count": 14,
   "id": "495533cf",
   "metadata": {},
   "outputs": [
    {
     "name": "stdout",
     "output_type": "stream",
     "text": [
      "72477387\n"
     ]
    }
   ],
   "source": [
    "print(num)"
   ]
  },
  {
   "cell_type": "code",
   "execution_count": 1,
   "id": "d6c49620",
   "metadata": {},
   "outputs": [
    {
     "name": "stdout",
     "output_type": "stream",
     "text": [
      "===================================\n",
      " 1.입력 2.보기 3.수정 4.삭제 5.종료 \n",
      "===================================\n",
      "원하는 메뉴를 입력하고 엔터키를 누르세요.: 1\n",
      "입력 작업 실행\n",
      "===================================\n",
      " 1.입력 2.보기 3.수정 4.삭제 5.종료 \n",
      "===================================\n",
      "원하는 메뉴를 입력하고 엔터키를 누르세요.: 1\n",
      "입력 작업 실행\n",
      "===================================\n",
      " 1.입력 2.보기 3.수정 4.삭제 5.종료 \n",
      "===================================\n",
      "원하는 메뉴를 입력하고 엔터키를 누르세요.: 2\n",
      "보기 작업 실행\n",
      "===================================\n",
      " 1.입력 2.보기 3.수정 4.삭제 5.종료 \n",
      "===================================\n",
      "원하는 메뉴를 입력하고 엔터키를 누르세요.: 2\n",
      "보기 작업 실행\n",
      "===================================\n",
      " 1.입력 2.보기 3.수정 4.삭제 5.종료 \n",
      "===================================\n",
      "원하는 메뉴를 입력하고 엔터키를 누르세요.: 3\n",
      "수정 작업 실행\n",
      "===================================\n",
      " 1.입력 2.보기 3.수정 4.삭제 5.종료 \n",
      "===================================\n",
      "원하는 메뉴를 입력하고 엔터키를 누르세요.: 3\n",
      "수정 작업 실행\n",
      "===================================\n",
      " 1.입력 2.보기 3.수정 4.삭제 5.종료 \n",
      "===================================\n",
      "원하는 메뉴를 입력하고 엔터키를 누르세요.: 4\n",
      "삭제 작업 실행\n",
      "===================================\n",
      " 1.입력 2.보기 3.수정 4.삭제 5.종료 \n",
      "===================================\n",
      "원하는 메뉴를 입력하고 엔터키를 누르세요.: 6\n",
      "메뉴는 1 ~ 5 사이의 값만 입력해야 합니다.\n",
      "===================================\n",
      " 1.입력 2.보기 3.수정 4.삭제 5.종료 \n",
      "===================================\n",
      "원하는 메뉴를 입력하고 엔터키를 누르세요.: 5\n",
      "프로그램을 종료합니다.\n"
     ]
    }
   ],
   "source": [
    "menu = 0\n",
    "while menu != 5:\n",
    "    while True:\n",
    "        print('=' * 35)\n",
    "        print(' 1.입력 2.보기 3.수정 4.삭제 5.종료 ')\n",
    "        print('=' * 35)\n",
    "        menu = int(input('원하는 메뉴를 입력하고 엔터키를 누르세요.: '))\n",
    "        # if 1 <= menu <= 5:\n",
    "        if  menu >= 1 and menu <= 5:\n",
    "        # if menu in [1, 2, 3, 4, 5]:\n",
    "        # if menu in [i for i in range(1, 6)]:\n",
    "        # if menu in list(range(1, 6)):\n",
    "        # if menu in range(1, 6):\n",
    "            break\n",
    "        else:\n",
    "            print('메뉴는 1 ~ 5 사이의 값만 입력해야 합니다.')\n",
    "    # ======= while True 끝\n",
    "\n",
    "    # 여기까지 왔다면 메뉴에는 1 ~ 5 사이의 정수가 입력되었다는 의미이다.\n",
    "    if menu == 1:\n",
    "        print('입력 작업 실행')\n",
    "    if menu == 2:\n",
    "        print('보기 작업 실행')\n",
    "    if menu == 3:\n",
    "        print('수정 작업 실행')\n",
    "    if menu == 4:\n",
    "        print('삭제 작업 실행')\n",
    "# =========== while menu != 5 끝\n",
    "print('프로그램을 종료합니다.')"
   ]
  },
  {
   "cell_type": "code",
   "execution_count": 16,
   "id": "fe6d4212",
   "metadata": {},
   "outputs": [],
   "source": [
    "import random"
   ]
  },
  {
   "cell_type": "code",
   "execution_count": 31,
   "id": "d7f031de",
   "metadata": {},
   "outputs": [
    {
     "name": "stdout",
     "output_type": "stream",
     "text": [
      "로또 1등번호는 [29, 1, 27, 22, 10, 16] 입니다.\n"
     ]
    }
   ],
   "source": [
    "# 로또번호 생성기\n",
    "lotto = []\n",
    "while True:\n",
    "    num = random.randrange(1, 46)\n",
    "    # print(num)\n",
    "    if num not in lotto:\n",
    "        lotto.append(num)\n",
    "    if len(lotto) == 6:\n",
    "        break\n",
    "print(f\"로또 1등번호는 {lotto} 입니다.\")"
   ]
  },
  {
   "cell_type": "code",
   "execution_count": 173,
   "id": "ccbb5d4d",
   "metadata": {
    "scrolled": true
   },
   "outputs": [
    {
     "name": "stdout",
     "output_type": "stream",
     "text": [
      "27\n",
      "21\n",
      "로또 1등번호는 [29, 1, 27, 22, 10, 16] 이고, 보너스번호는 21입니다.\n"
     ]
    }
   ],
   "source": [
    "# 보너스 번호 생성기\n",
    "\n",
    "while True:\n",
    "    bonus = random.randrange(1, 46)\n",
    "    print(bonus)\n",
    "    if bonus not in lotto:\n",
    "        print(f\"로또 1등번호는 {lotto} 이고, 보너스번호는 {bonus}입니다.\")\n",
    "        break"
   ]
  },
  {
   "cell_type": "code",
   "execution_count": null,
   "id": "3212fd82",
   "metadata": {},
   "outputs": [],
   "source": [
    "# 1-1. 입력된 수가 짝수라면 2로 나눕니다. \n",
    "# 1-2. 입력된 수가 홀수라면 3을 곱하고 1을 더합니다. \n",
    "# 2. 결과로 나온 수에 같은 작업을 1이 될 때까지 반복합니다. "
   ]
  },
  {
   "cell_type": "code",
   "execution_count": 5,
   "id": "24cf10a4",
   "metadata": {},
   "outputs": [
    {
     "name": "stdout",
     "output_type": "stream",
     "text": [
      "콜라츠 추측을 실행할 숫자를 입력해 주세요.: 6565421654126152126115316215361512361512365418244239844265142653461532456123\n",
      "583회 실행 결과 1에 도달하였습니다.\n"
     ]
    }
   ],
   "source": [
    "num = int(input(\"콜라츠 추측을 실행할 숫자를 입력해 주세요.: \"))\n",
    "cnt = 0\n",
    "while True:\n",
    "    if num % 2 == 0:\n",
    "        num /= 2\n",
    "    else:\n",
    "        num = num * 3 + 1\n",
    "    cnt += 1\n",
    "    if num == 1:\n",
    "        break\n",
    "print(f\"{cnt}회 실행 결과 1에 도달하였습니다.\")"
   ]
  },
  {
   "cell_type": "code",
   "execution_count": null,
   "id": "46562e23",
   "metadata": {},
   "outputs": [],
   "source": []
  },
  {
   "cell_type": "code",
   "execution_count": null,
   "id": "1c3da15c",
   "metadata": {},
   "outputs": [],
   "source": []
  },
  {
   "cell_type": "code",
   "execution_count": null,
   "id": "fc5c4501",
   "metadata": {},
   "outputs": [],
   "source": []
  },
  {
   "cell_type": "code",
   "execution_count": null,
   "id": "81b55440",
   "metadata": {},
   "outputs": [],
   "source": []
  },
  {
   "cell_type": "code",
   "execution_count": null,
   "id": "e6aeeda3",
   "metadata": {},
   "outputs": [],
   "source": []
  },
  {
   "cell_type": "code",
   "execution_count": null,
   "id": "8dee794b",
   "metadata": {},
   "outputs": [],
   "source": []
  }
 ],
 "metadata": {
  "kernelspec": {
   "display_name": "Python 3 (ipykernel)",
   "language": "python",
   "name": "python3"
  },
  "language_info": {
   "codemirror_mode": {
    "name": "ipython",
    "version": 3
   },
   "file_extension": ".py",
   "mimetype": "text/x-python",
   "name": "python",
   "nbconvert_exporter": "python",
   "pygments_lexer": "ipython3",
   "version": "3.9.7"
  }
 },
 "nbformat": 4,
 "nbformat_minor": 5
}
