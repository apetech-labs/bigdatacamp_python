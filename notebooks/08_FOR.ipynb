{
 "cells": [
  {
   "cell_type": "markdown",
   "id": "0bad1b91",
   "metadata": {},
   "source": [
    "## 반복문(for)\n",
    "- 순서로 반복하며 루프명령을 실행한다.\n",
    "- range 명령과 함께 다양한 범위를 지정할 수 있다.\n",
    "- 제어변수와 같이 사용하여 다양한 기능의 반복문을 만들 수 있다."
   ]
  },
  {
   "cell_type": "code",
   "execution_count": 1,
   "id": "6591aad9",
   "metadata": {},
   "outputs": [
    {
     "name": "stdout",
     "output_type": "stream",
     "text": [
      "1\n",
      "2\n",
      "3\n",
      "4\n",
      "5\n"
     ]
    }
   ],
   "source": [
    "num = [1, 2, 3, 4, 5]\n",
    "for i in num:\n",
    "    print(i)"
   ]
  },
  {
   "cell_type": "code",
   "execution_count": 1,
   "id": "5e72ee9e",
   "metadata": {},
   "outputs": [
    {
     "ename": "TypeError",
     "evalue": "'float' object cannot be interpreted as an integer",
     "output_type": "error",
     "traceback": [
      "\u001b[1;31m---------------------------------------------------------------------------\u001b[0m",
      "\u001b[1;31mTypeError\u001b[0m                                 Traceback (most recent call last)",
      "Cell \u001b[1;32mIn[1], line 3\u001b[0m\n\u001b[0;32m      1\u001b[0m \u001b[38;5;66;03m# range() 함수는 초기치부터 증가치 만큼씩 증가하며 최종치를 넘어가지 않는 숫자 리스트를 만들어서 리턴한다.\u001b[39;00m\n\u001b[0;32m      2\u001b[0m \u001b[38;5;66;03m# 초기치와 증가치가 생략되면 초기치는 0, 증가치는 1이 기본값으로 설정된다.\u001b[39;00m\n\u001b[1;32m----> 3\u001b[0m a \u001b[38;5;241m=\u001b[39m \u001b[38;5;28mlist\u001b[39m(\u001b[38;5;28;43mrange\u001b[39;49m\u001b[43m(\u001b[49m\u001b[38;5;241;43m0\u001b[39;49m\u001b[43m,\u001b[49m\u001b[43m \u001b[49m\u001b[38;5;241;43m10\u001b[39;49m\u001b[43m,\u001b[49m\u001b[43m \u001b[49m\u001b[38;5;241;43m0.5\u001b[39;49m\u001b[43m)\u001b[49m)\n\u001b[0;32m      4\u001b[0m \u001b[38;5;28mprint\u001b[39m(a)\n\u001b[0;32m      5\u001b[0m b \u001b[38;5;241m=\u001b[39m \u001b[38;5;28mlist\u001b[39m(\u001b[38;5;28mrange\u001b[39m(\u001b[38;5;241m10\u001b[39m))\n",
      "\u001b[1;31mTypeError\u001b[0m: 'float' object cannot be interpreted as an integer"
     ]
    }
   ],
   "source": [
    "# range() 함수는 초기치부터 증가치 만큼씩 증가하며 최종치를 넘어가지 않는 숫자 리스트를 만들어서 리턴한다.\n",
    "# 초기치와 증가치가 생략되면 초기치는 0, 증가치는 1이 기본값으로 설정된다.\n",
    "a = list(range(0, 10, 0.5))\n",
    "print(a)\n",
    "b = list(range(10))\n",
    "print(b)\n",
    "c = list(range(2, 10, 3))\n",
    "print(c)"
   ]
  },
  {
   "cell_type": "code",
   "execution_count": 9,
   "id": "0cba797b",
   "metadata": {},
   "outputs": [
    {
     "name": "stdout",
     "output_type": "stream",
     "text": [
      "1\n",
      "2\n",
      "3\n",
      "4\n",
      "5\n"
     ]
    }
   ],
   "source": [
    "for i in range(1, 6):\n",
    "    print(i)"
   ]
  },
  {
   "cell_type": "code",
   "execution_count": 11,
   "id": "34f9c76f",
   "metadata": {},
   "outputs": [
    {
     "name": "stdout",
     "output_type": "stream",
     "text": [
      "55\n"
     ]
    }
   ],
   "source": [
    "total = 0\n",
    "for i in range(1, 11):\n",
    "    # total = total +i\n",
    "    total += i\n",
    "print(total)"
   ]
  },
  {
   "cell_type": "code",
   "execution_count": 12,
   "id": "e9aa1376",
   "metadata": {},
   "outputs": [
    {
     "name": "stdout",
     "output_type": "stream",
     "text": [
      "55\n"
     ]
    }
   ],
   "source": [
    "total = 0\n",
    "for i in range(1, 11):\n",
    "    total += i\n",
    "print(total)"
   ]
  },
  {
   "cell_type": "markdown",
   "id": "a2cfb214",
   "metadata": {},
   "source": [
    "## 반복문의 양식\n",
    "for 변수 조건문:  \n",
    "&nbsp;&nbsp;&nbsp;&nbsp; 실행할문장  \n",
    "&nbsp;&nbsp;&nbsp;&nbsp; 실행할문장  \n",
    "&nbsp;&nbsp;&nbsp;&nbsp; 실행할문장  "
   ]
  },
  {
   "cell_type": "code",
   "execution_count": 13,
   "id": "3be9a302",
   "metadata": {},
   "outputs": [],
   "source": [
    "import random"
   ]
  },
  {
   "cell_type": "code",
   "execution_count": 20,
   "id": "b7646ea9",
   "metadata": {},
   "outputs": [
    {
     "name": "stdout",
     "output_type": "stream",
     "text": [
      "1의 갯수: 16510\n",
      "2의 갯수: 16739\n",
      "3의 갯수: 16698\n",
      "4의 갯수: 16732\n",
      "5의 갯수: 16613\n",
      "6의 갯수: 16708\n"
     ]
    }
   ],
   "source": [
    "# 주사위를 n회차 굴렸을때 1에서 6까지 나온 횟수\n",
    "count = []\n",
    "for i in range(6):\n",
    "    count.append(0)\n",
    "    \n",
    "\n",
    "for i in range(100000):\n",
    "    r = random.randrange(1, 7)\n",
    "    if r == 1:\n",
    "        count[0] += 1\n",
    "    elif r == 2:\n",
    "        count[1] += 1\n",
    "    elif r == 3:\n",
    "        count[2] += 1\n",
    "    elif r == 4:\n",
    "        count[3] += 1\n",
    "    elif r == 5:\n",
    "        count[4] += 1\n",
    "    else:\n",
    "        count[5] += 1\n",
    "\n",
    "\n",
    "print('1의 갯수: {}'.format(count[0]))\n",
    "print('2의 갯수: {}'.format(count[1]))\n",
    "print('3의 갯수: {}'.format(count[2]))\n",
    "print('4의 갯수: {}'.format(count[3]))\n",
    "print('5의 갯수: {}'.format(count[4]))\n",
    "print('6의 갯수: {}'.format(count[5]))"
   ]
  },
  {
   "cell_type": "code",
   "execution_count": 21,
   "id": "77906131",
   "metadata": {},
   "outputs": [
    {
     "name": "stdout",
     "output_type": "stream",
     "text": [
      "0 0\n",
      "0 1\n",
      "0 2\n",
      "0 3\n",
      "0 4\n",
      "1 0\n",
      "1 1\n",
      "1 2\n",
      "1 3\n",
      "1 4\n",
      "2 0\n",
      "2 1\n",
      "2 2\n",
      "2 3\n",
      "2 4\n",
      "3 0\n",
      "3 1\n",
      "3 2\n",
      "3 3\n",
      "3 4\n",
      "4 0\n",
      "4 1\n",
      "4 2\n",
      "4 3\n",
      "4 4\n"
     ]
    }
   ],
   "source": [
    "# 반복문 안에 반복문을 넣어서 실행이 가능하다.\n",
    "for i in range(5):\n",
    "    for j in range(5):\n",
    "        print(i, j)"
   ]
  },
  {
   "cell_type": "code",
   "execution_count": 28,
   "id": "1abd2f00",
   "metadata": {
    "scrolled": true
   },
   "outputs": [
    {
     "name": "stdout",
     "output_type": "stream",
     "text": [
      "======2단 시작!========\n",
      "2 X 1 = 2\n",
      "2 X 2 = 4\n",
      "2 X 3 = 6\n",
      "2 X 4 = 8\n",
      "2 X 5 = 10\n",
      "2 X 6 = 12\n",
      "2 X 7 = 14\n",
      "2 X 8 = 16\n",
      "2 X 9 = 18\n",
      "======3단 시작!========\n",
      "3 X 1 = 3\n",
      "3 X 2 = 6\n",
      "3 X 3 = 9\n",
      "3 X 4 = 12\n",
      "3 X 5 = 15\n",
      "3 X 6 = 18\n",
      "3 X 7 = 21\n",
      "3 X 8 = 24\n",
      "3 X 9 = 27\n",
      "======4단 시작!========\n",
      "4 X 1 = 4\n",
      "4 X 2 = 8\n",
      "4 X 3 = 12\n",
      "4 X 4 = 16\n",
      "4 X 5 = 20\n",
      "4 X 6 = 24\n",
      "4 X 7 = 28\n",
      "4 X 8 = 32\n",
      "4 X 9 = 36\n",
      "======5단 시작!========\n",
      "5 X 1 = 5\n",
      "5 X 2 = 10\n",
      "5 X 3 = 15\n",
      "5 X 4 = 20\n",
      "5 X 5 = 25\n",
      "5 X 6 = 30\n",
      "5 X 7 = 35\n",
      "5 X 8 = 40\n",
      "5 X 9 = 45\n",
      "======6단 시작!========\n",
      "6 X 1 = 6\n",
      "6 X 2 = 12\n",
      "6 X 3 = 18\n",
      "6 X 4 = 24\n",
      "6 X 5 = 30\n",
      "6 X 6 = 36\n",
      "6 X 7 = 42\n",
      "6 X 8 = 48\n",
      "6 X 9 = 54\n",
      "======7단 시작!========\n",
      "7 X 1 = 7\n",
      "7 X 2 = 14\n",
      "7 X 3 = 21\n",
      "7 X 4 = 28\n",
      "7 X 5 = 35\n",
      "7 X 6 = 42\n",
      "7 X 7 = 49\n",
      "7 X 8 = 56\n",
      "7 X 9 = 63\n",
      "======8단 시작!========\n",
      "8 X 1 = 8\n",
      "8 X 2 = 16\n",
      "8 X 3 = 24\n",
      "8 X 4 = 32\n",
      "8 X 5 = 40\n",
      "8 X 6 = 48\n",
      "8 X 7 = 56\n",
      "8 X 8 = 64\n",
      "8 X 9 = 72\n",
      "======9단 시작!========\n",
      "9 X 1 = 9\n",
      "9 X 2 = 18\n",
      "9 X 3 = 27\n",
      "9 X 4 = 36\n",
      "9 X 5 = 45\n",
      "9 X 6 = 54\n",
      "9 X 7 = 63\n",
      "9 X 8 = 72\n",
      "9 X 9 = 81\n"
     ]
    }
   ],
   "source": [
    "# 구구단 1단부터 9단까지 출력\n",
    "for i in range(2, 10, 1):\n",
    "    # print('')\n",
    "    print(f'======{i}단 시작!========')\n",
    "    for j in range(1, 10, 1):\n",
    "        print(f\"{i} X {j} = {i * j}\")"
   ]
  },
  {
   "cell_type": "code",
   "execution_count": 29,
   "id": "ba1625b2",
   "metadata": {},
   "outputs": [
    {
     "name": "stdout",
     "output_type": "stream",
     "text": [
      "0\n",
      "1\n",
      "2\n",
      "3\n",
      "4\n",
      "5\n",
      "5에 달성하였기 때문에 반복문을 탈출합니다.\n"
     ]
    }
   ],
   "source": [
    "# 반복문에서는 break를 만나게 되면 그 자리에서 반복문을 중지하고 반복문을 탈출한다.\n",
    "for i in range(10):\n",
    "    print(i)\n",
    "    if i == 5:\n",
    "        print(f\"{i}에 달성하였기 때문에 반복문을 탈출합니다.\")\n",
    "        break"
   ]
  },
  {
   "cell_type": "code",
   "execution_count": 1,
   "id": "8323e39c",
   "metadata": {},
   "outputs": [
    {
     "name": "stdout",
     "output_type": "stream",
     "text": [
      "7500\n"
     ]
    }
   ],
   "source": [
    "start = 100\n",
    "end = 200\n",
    "sum_of_odd = 0\n",
    "\n",
    "for num in range(start, end + 1):\n",
    "    if num % 2 == 1:\n",
    "        sum_of_odd += num\n",
    "\n",
    "print(sum_of_odd)"
   ]
  },
  {
   "cell_type": "code",
   "execution_count": null,
   "id": "22864a81",
   "metadata": {},
   "outputs": [],
   "source": []
  },
  {
   "cell_type": "code",
   "execution_count": null,
   "id": "e1d4d9a3",
   "metadata": {},
   "outputs": [],
   "source": []
  },
  {
   "cell_type": "code",
   "execution_count": null,
   "id": "ba598970",
   "metadata": {},
   "outputs": [],
   "source": []
  },
  {
   "cell_type": "code",
   "execution_count": null,
   "id": "bc799bba",
   "metadata": {},
   "outputs": [],
   "source": []
  },
  {
   "cell_type": "code",
   "execution_count": null,
   "id": "0732efad",
   "metadata": {},
   "outputs": [],
   "source": []
  }
 ],
 "metadata": {
  "kernelspec": {
   "display_name": "Python 3 (ipykernel)",
   "language": "python",
   "name": "python3"
  },
  "language_info": {
   "codemirror_mode": {
    "name": "ipython",
    "version": 3
   },
   "file_extension": ".py",
   "mimetype": "text/x-python",
   "name": "python",
   "nbconvert_exporter": "python",
   "pygments_lexer": "ipython3",
   "version": "3.9.7"
  }
 },
 "nbformat": 4,
 "nbformat_minor": 5
}
