{
 "cells": [
  {
   "cell_type": "code",
   "execution_count": null,
   "id": "e70573f1",
   "metadata": {},
   "outputs": [],
   "source": [
    "# 변수는 대 소문자가 구분된다.\n",
    "text = \"소문자\"\n",
    "TEXT = \"대문자\"\n",
    "print(text, TEXT)"
   ]
  },
  {
   "cell_type": "code",
   "execution_count": null,
   "id": "cb89450e",
   "metadata": {},
   "outputs": [],
   "source": [
    "# 변수에는 알파벳, _(언더바), 숫자 등으로 구성이 되는데 숫자가 앞에 오는것은 불가능하다.\n",
    "name = \"둘리\"\n",
    "print(name)\n",
    "# 1name = \"고길동\"\n",
    "# print(1name)\n",
    "\n",
    "# 선언된 변수는 del을 이용해서 삭제가 가능하다\n",
    "del name\n",
    "# print(name)"
   ]
  },
  {
   "cell_type": "code",
   "execution_count": null,
   "id": "559f5bbb",
   "metadata": {},
   "outputs": [],
   "source": [
    "a = '둘리' # <class 'str'>\n",
    "print(type(a))\n",
    "\n",
    "num = 2023 # <class 'int'>\n",
    "print(type(num))\n",
    "\n",
    "pi = 3.14 # <class 'float'>\n",
    "print(type(pi))\n",
    "\n",
    "a = True # <class 'bool'>\n",
    "print(a)\n",
    "print(type(a))"
   ]
  },
  {
   "cell_type": "code",
   "execution_count": null,
   "id": "7a56f2f3",
   "metadata": {},
   "outputs": [],
   "source": [
    "a = \"공룡\"\n",
    "print(a)"
   ]
  },
  {
   "cell_type": "code",
   "execution_count": null,
   "id": "0403e409",
   "metadata": {},
   "outputs": [],
   "source": [
    "# 따옴표 앞에 f를 붙이고 {}(중괄호)안에 변수를 넣으면 문자열 포매팅이 가능하다.\n",
    "# 따옴표 뒤에 .format()을 붙이고 ()안에 변수를 넣으면 문자열 포매팅이 가능하다.\n",
    "print(f\"둘리: {a}\")\n",
    "print(\"둘리: {}\".format(a))"
   ]
  },
  {
   "cell_type": "code",
   "execution_count": null,
   "id": "5422adfd",
   "metadata": {},
   "outputs": [],
   "source": [
    "name = \"둘리\"\n",
    "age = \"500살\"\n",
    "address = \"서울시\"\n",
    "# 문자열 포매팅은 여러개도 가능하다.\n",
    "print(f\"{name}, {age}\")\n",
    "print(\"{}, {}\".format(name, age))\n",
    "\n",
    "# 문자열 포매팅을 할 때 {}의 개수보다 출력할 데이터가 적으면 에러가 발생된다.\n",
    "# print(f\"{name}, {}\")\n",
    "# print(\"{}, {}\".format(name))\n",
    "\n",
    "# 문자열 포매팅을 할 때 {}의 개수보다 출력할 데이터가 많으면 남은 데이터는 무시된다.\n",
    "print(\"{}, {}\".format(name, age, address))"
   ]
  },
  {
   "cell_type": "code",
   "execution_count": null,
   "id": "96aae4d9",
   "metadata": {},
   "outputs": [],
   "source": [
    "애국가 = \"동해물과 백두산이 마르고 닳도록\"\n",
    "# print(애국가)\n",
    "print(애국가[-1])\n",
    "print(애국가[16])\n",
    "print(애국가[0:5])\n",
    "print(애국가[::-1])\n",
    "\n",
    "print(애국가[::2])"
   ]
  },
  {
   "cell_type": "code",
   "execution_count": null,
   "id": "13bf2ddd",
   "metadata": {},
   "outputs": [],
   "source": [
    "print(애국가[5:9])"
   ]
  },
  {
   "cell_type": "code",
   "execution_count": null,
   "id": "f93e3f91",
   "metadata": {},
   "outputs": [],
   "source": [
    "print(\"5\" + \"3\")\n",
    "print(5 + 3) # 덧셈\n",
    "print(5 - 3) # 뺄셈\n",
    "print(5 * 3) # 곱셈\n",
    "print(5 / 3) # 나눗셈\n",
    "print(5 % 3) # 나눈 뒤 나머지 출력\n",
    "print(5 ** 3) # 거듭제곱\n",
    "print(4 ** 0.5) # 제곱근"
   ]
  },
  {
   "cell_type": "code",
   "execution_count": null,
   "id": "3c817e74",
   "metadata": {},
   "outputs": [],
   "source": [
    "age = 500\n",
    "print(age)\n",
    "print(age + 100)"
   ]
  },
  {
   "cell_type": "code",
   "execution_count": null,
   "id": "932ed0f3",
   "metadata": {},
   "outputs": [],
   "source": [
    "# input()함수를 이용하여 사용자에게 변수를 입력 받는것도 가능하다.\n",
    "age = input(\"사용자의 나이를 입력해주세요: \")\n",
    "print('사용자의 나이는 ', age, ' 입니다!')\n",
    "print(type(age))"
   ]
  },
  {
   "cell_type": "code",
   "execution_count": null,
   "id": "116a6d63",
   "metadata": {},
   "outputs": [],
   "source": [
    "hi = input(\"안녕하세요?: \")\n",
    "print(hi)"
   ]
  },
  {
   "cell_type": "code",
   "execution_count": null,
   "id": "821e1845",
   "metadata": {},
   "outputs": [],
   "source": [
    "age = int(input(\"사용자의 나이를 입력해주세요: \"))\n",
    "print(type(age))"
   ]
  },
  {
   "cell_type": "code",
   "execution_count": null,
   "id": "66300a9d",
   "metadata": {},
   "outputs": [],
   "source": [
    "# 국어, 영어, 수학 점수를 입력받고 평균을 계산해주는 코드를 작성해보세요. 예제\n",
    "korean = int(input(\"국어 점수를 입력해주세요: \"))\n",
    "math = int(input(\"수학 점수를 입력해주세요: \"))\n",
    "english = int(input(\"영어 점수를 입력해주세요: \"))\n",
    "print(f\"세 점수의 평균: {(korean+math+english)/3}\")"
   ]
  },
  {
   "cell_type": "code",
   "execution_count": null,
   "id": "84c3591a",
   "metadata": {},
   "outputs": [],
   "source": []
  },
  {
   "cell_type": "code",
   "execution_count": null,
   "id": "53916391",
   "metadata": {},
   "outputs": [],
   "source": []
  },
  {
   "cell_type": "code",
   "execution_count": null,
   "id": "a49f7bef",
   "metadata": {},
   "outputs": [],
   "source": []
  },
  {
   "cell_type": "code",
   "execution_count": null,
   "id": "07180114",
   "metadata": {},
   "outputs": [],
   "source": []
  },
  {
   "cell_type": "code",
   "execution_count": null,
   "id": "bce6c16e",
   "metadata": {},
   "outputs": [],
   "source": []
  },
  {
   "cell_type": "code",
   "execution_count": null,
   "id": "91072195",
   "metadata": {},
   "outputs": [],
   "source": []
  }
 ],
 "metadata": {
  "kernelspec": {
   "display_name": "Python 3 (ipykernel)",
   "language": "python",
   "name": "python3"
  },
  "language_info": {
   "codemirror_mode": {
    "name": "ipython",
    "version": 3
   },
   "file_extension": ".py",
   "mimetype": "text/x-python",
   "name": "python",
   "nbconvert_exporter": "python",
   "pygments_lexer": "ipython3",
   "version": "3.11.3"
  }
 },
 "nbformat": 4,
 "nbformat_minor": 5
}
