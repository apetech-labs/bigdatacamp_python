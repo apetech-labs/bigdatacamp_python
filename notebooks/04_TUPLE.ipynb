{
 "cells": [
  {
   "cell_type": "markdown",
   "id": "eaf93681",
   "metadata": {},
   "source": [
    "## 튜플(tuple)\n"
   ]
  },
  {
   "cell_type": "code",
   "execution_count": 6,
   "id": "a6f05601",
   "metadata": {},
   "outputs": [
    {
     "name": "stdout",
     "output_type": "stream",
     "text": [
      "() ()\n",
      "<class 'tuple'> <class 'tuple'>\n"
     ]
    }
   ],
   "source": [
    "# 빈 튜플 만들기\n",
    "a = ()\n",
    "b = tuple()\n",
    "print(a, b)\n",
    "print(type(a), type(b))"
   ]
  },
  {
   "cell_type": "code",
   "execution_count": 8,
   "id": "c2f8e730",
   "metadata": {},
   "outputs": [
    {
     "name": "stdout",
     "output_type": "stream",
     "text": [
      "1\n",
      "<class 'int'>\n",
      "(1,)\n",
      "<class 'tuple'>\n"
     ]
    }
   ],
   "source": [
    "# 데이터가 하나인 튜플 만들기\n",
    "a = (1)\n",
    "print(a)\n",
    "print(type(a)) # <class 'int'>\n",
    "# ()만 사용하게 되면 연산식에 사용되는 ()로 인식해 상수를 기억하는 변수가 만들어진다.\n",
    "\n",
    "b = (1,)\n",
    "print(b)\n",
    "print(type(b))"
   ]
  },
  {
   "cell_type": "code",
   "execution_count": 12,
   "id": "7f531a6c",
   "metadata": {},
   "outputs": [
    {
     "name": "stdout",
     "output_type": "stream",
     "text": [
      "(1, 2, 3, 4)\n",
      "<class 'tuple'>\n",
      "('a', 'b', 'c')\n",
      "<class 'tuple'>\n",
      "(1, 2, 'a', 'b', 'c')\n",
      "<class 'tuple'>\n"
     ]
    }
   ],
   "source": [
    "num = (1, 2, 3, 4)\n",
    "eng = ('a', 'b', 'c')\n",
    "a = (1, 2, 'a', 'b', 'c')\n",
    "\n",
    "print(num)\n",
    "print(type(num))\n",
    "print(eng)\n",
    "print(type(eng))\n",
    "print(a)\n",
    "print(type(a))"
   ]
  },
  {
   "cell_type": "code",
   "execution_count": null,
   "id": "afbb8296",
   "metadata": {},
   "outputs": [],
   "source": [
    "# 튜플은 ()를 생략하더라도 변수에 데이터를 ','르 ㅗ구분해서 여러개를 넣어주면 자동으로 튜플로 인식한다\n",
    "a = 1, 2, 3, 4, 5, 6, 7\n",
    "print(a)\n",
    "print(type(a))"
   ]
  },
  {
   "cell_type": "code",
   "execution_count": 13,
   "id": "5535e2a2",
   "metadata": {},
   "outputs": [
    {
     "name": "stdout",
     "output_type": "stream",
     "text": [
      "1\n",
      "7\n",
      "(2, 3)\n",
      "(2, 3, 4, 5, 6, 7)\n",
      "(1, 2, 3, 4, 5)\n",
      "(7, 6, 5, 4, 3, 2, 1)\n"
     ]
    }
   ],
   "source": [
    "# 튜플은 리스트처럼 인덱싱과 슬라이싱이 가능하다.\n",
    "a = 1, 2, 3, 4, 5, 6, 7\n",
    "print(a[0])\n",
    "print(a[-1])\n",
    "print(a[1:3])\n",
    "print(a[1:])\n",
    "print(a[:5])\n",
    "print(a[::-1])"
   ]
  },
  {
   "cell_type": "code",
   "execution_count": 14,
   "id": "60d6dbce",
   "metadata": {},
   "outputs": [
    {
     "name": "stdout",
     "output_type": "stream",
     "text": [
      "(1, 2, 3, 4, 5, 6)\n",
      "(1, 2, 3, 1, 2, 3, 1, 2, 3)\n"
     ]
    }
   ],
   "source": [
    "# 튜플은 리스트처럼 + 와 * 연산이 가능하다\n",
    "a = 1, 2, 3\n",
    "b = 4, 5, 6\n",
    "print(a + b)\n",
    "print(a * 3)"
   ]
  },
  {
   "cell_type": "code",
   "execution_count": 18,
   "id": "73aee350",
   "metadata": {},
   "outputs": [
    {
     "name": "stdout",
     "output_type": "stream",
     "text": [
      "(1, 2, 3, 4, 5, 6, 7)\n"
     ]
    }
   ],
   "source": [
    "# 튜플은 리스트와 다르게 수정과 삭제를 할 수 없다 = 한 번 생성한 튜플의 데이터는 변경할 수 없다.\n",
    "a = 1, 2, 3, 4, 5, 6, 7\n",
    "print(a)\n",
    "# a[0] = 0\n",
    "# del a[0]\n",
    "# del a"
   ]
  },
  {
   "cell_type": "code",
   "execution_count": null,
   "id": "783e5772",
   "metadata": {},
   "outputs": [],
   "source": []
  },
  {
   "cell_type": "code",
   "execution_count": null,
   "id": "fe79a164",
   "metadata": {},
   "outputs": [],
   "source": []
  },
  {
   "cell_type": "code",
   "execution_count": null,
   "id": "c536eb58",
   "metadata": {},
   "outputs": [],
   "source": []
  },
  {
   "cell_type": "code",
   "execution_count": null,
   "id": "c4cc9aec",
   "metadata": {},
   "outputs": [],
   "source": []
  },
  {
   "cell_type": "code",
   "execution_count": null,
   "id": "1e4d0be1",
   "metadata": {},
   "outputs": [],
   "source": []
  },
  {
   "cell_type": "code",
   "execution_count": null,
   "id": "24de7e8a",
   "metadata": {},
   "outputs": [],
   "source": []
  },
  {
   "cell_type": "code",
   "execution_count": null,
   "id": "439124c6",
   "metadata": {},
   "outputs": [],
   "source": []
  },
  {
   "cell_type": "code",
   "execution_count": null,
   "id": "627a7db5",
   "metadata": {},
   "outputs": [],
   "source": []
  },
  {
   "cell_type": "code",
   "execution_count": null,
   "id": "6d101b29",
   "metadata": {},
   "outputs": [],
   "source": []
  },
  {
   "cell_type": "code",
   "execution_count": null,
   "id": "7731b5e5",
   "metadata": {},
   "outputs": [],
   "source": []
  },
  {
   "cell_type": "code",
   "execution_count": null,
   "id": "1645aa37",
   "metadata": {},
   "outputs": [],
   "source": []
  },
  {
   "cell_type": "code",
   "execution_count": null,
   "id": "89392939",
   "metadata": {},
   "outputs": [],
   "source": []
  }
 ],
 "metadata": {
  "kernelspec": {
   "display_name": "Python 3 (ipykernel)",
   "language": "python",
   "name": "python3"
  },
  "language_info": {
   "codemirror_mode": {
    "name": "ipython",
    "version": 3
   },
   "file_extension": ".py",
   "mimetype": "text/x-python",
   "name": "python",
   "nbconvert_exporter": "python",
   "pygments_lexer": "ipython3",
   "version": "3.9.7"
  }
 },
 "nbformat": 4,
 "nbformat_minor": 5
}
