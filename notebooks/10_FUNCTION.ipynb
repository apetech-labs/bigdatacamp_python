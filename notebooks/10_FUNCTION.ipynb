{
 "cells": [
  {
   "cell_type": "markdown",
   "id": "8639263b",
   "metadata": {},
   "source": [
    "## 함수(function)\n",
    "- 파이썬에서는 def을 이용해 함수를 선언한다.\n",
    "- 인수: 함수에 전달되는 값\n",
    "- 매개변수: 함수에 전달된 값을 저장하는 변수 또는 매ㅐ변수로 가변인수가 가능하다. 가변인수의 기본값은 인수목록의 마짐가에 있어야함\n",
    "- return: 연산의 결과로 리턴값(함수가 리턴값을 꼭 가지는 것은 아님)"
   ]
  },
  {
   "cell_type": "markdown",
   "id": "95475fb4",
   "metadata": {},
   "source": [
    "기존 수학에서 함수\n",
    "$y = 2x + 3$    "
   ]
  },
  {
   "cell_type": "markdown",
   "id": "9bd5d0df",
   "metadata": {},
   "source": [
    "파이썬에서 함수의 구조  \n",
    "def 함수이름(매개변수):  \n",
    "&nbsp;&nbsp;&nbsp;&nbsp; 수행할 문장1  \n",
    "&nbsp;&nbsp;&nbsp;&nbsp; 수행할 문장2  "
   ]
  },
  {
   "cell_type": "markdown",
   "id": "623ce1a1",
   "metadata": {},
   "source": [
    "함수의 실행 순서  \n",
    "프로그램에서 함수가 호출되면 호출된 함수로 제어가 넘어간다. => 복귀 주소는 스택에 저장된다.  \n",
    "호출된 함수에서 정의한 가능을 끝까지 모두 실행하거나 return을 만나면 함수가 종료되고 함수를 호출한 문장으로 돌아간다.  \n",
    "return 뒤에 값이 있으면 값을 가지고 돌아가고 return 뒤에 값이 없거나 return 자체가 없으면 None을 가지고 돌아간다."
   ]
  },
  {
   "cell_type": "code",
   "execution_count": 30,
   "id": "48765b8e",
   "metadata": {},
   "outputs": [],
   "source": [
    "def add1(a, b):\n",
    "    return a + b"
   ]
  },
  {
   "cell_type": "code",
   "execution_count": 32,
   "id": "8f861937",
   "metadata": {},
   "outputs": [
    {
     "name": "stdout",
     "output_type": "stream",
     "text": [
      "5\n"
     ]
    }
   ],
   "source": [
    "print(add1(2, 3))"
   ]
  },
  {
   "cell_type": "code",
   "execution_count": 33,
   "id": "1f8002b9",
   "metadata": {},
   "outputs": [],
   "source": [
    "def add2(a, b):\n",
    "    return str(a) + str(b)"
   ]
  },
  {
   "cell_type": "code",
   "execution_count": 34,
   "id": "9dccf400",
   "metadata": {
    "scrolled": true
   },
   "outputs": [
    {
     "name": "stdout",
     "output_type": "stream",
     "text": [
      "23\n"
     ]
    }
   ],
   "source": [
    "print(add2(2, 3))"
   ]
  },
  {
   "cell_type": "code",
   "execution_count": null,
   "id": "baba9139",
   "metadata": {},
   "outputs": [],
   "source": []
  },
  {
   "cell_type": "code",
   "execution_count": null,
   "id": "8c9de474",
   "metadata": {},
   "outputs": [],
   "source": []
  },
  {
   "cell_type": "code",
   "execution_count": 35,
   "id": "e01412fa",
   "metadata": {},
   "outputs": [
    {
     "name": "stdout",
     "output_type": "stream",
     "text": [
      "12\n"
     ]
    }
   ],
   "source": [
    "print(add2(b=2, a=1))"
   ]
  },
  {
   "cell_type": "code",
   "execution_count": null,
   "id": "f62f95d6",
   "metadata": {},
   "outputs": [],
   "source": []
  },
  {
   "cell_type": "code",
   "execution_count": 37,
   "id": "9ae2fdb7",
   "metadata": {},
   "outputs": [],
   "source": [
    "def fac(n=100):\n",
    "    total = 0\n",
    "    for i in range(1, n+1):\n",
    "        total += i\n",
    "    return total"
   ]
  },
  {
   "cell_type": "code",
   "execution_count": 38,
   "id": "a8c98906",
   "metadata": {},
   "outputs": [
    {
     "name": "stdout",
     "output_type": "stream",
     "text": [
      "55\n",
      "5050\n"
     ]
    }
   ],
   "source": [
    "print(fac(10))\n",
    "print(fac())"
   ]
  },
  {
   "cell_type": "code",
   "execution_count": null,
   "id": "8922ecec",
   "metadata": {},
   "outputs": [],
   "source": []
  },
  {
   "cell_type": "code",
   "execution_count": 43,
   "id": "c5236514",
   "metadata": {},
   "outputs": [],
   "source": [
    "def fac2(*args):\n",
    "    total = 0\n",
    "    for i in args:\n",
    "        total += i\n",
    "    return total"
   ]
  },
  {
   "cell_type": "code",
   "execution_count": 44,
   "id": "b5ed0e93",
   "metadata": {},
   "outputs": [
    {
     "name": "stdout",
     "output_type": "stream",
     "text": [
      "3\n",
      "6\n",
      "55\n"
     ]
    }
   ],
   "source": [
    "print(fac2(1, 2))\n",
    "print(fac2(1, 2, 3))\n",
    "print(fac2(1, 2, 3, 4, 5, 6, 7, 8, 9, 10))"
   ]
  },
  {
   "cell_type": "code",
   "execution_count": null,
   "id": "6bb9dc20",
   "metadata": {},
   "outputs": [],
   "source": []
  },
  {
   "cell_type": "code",
   "execution_count": 48,
   "id": "091db488",
   "metadata": {},
   "outputs": [],
   "source": [
    "def names(**kargs):\n",
    "    print(type(kargs))\n",
    "    print(kargs)"
   ]
  },
  {
   "cell_type": "code",
   "execution_count": 49,
   "id": "733d7f62",
   "metadata": {},
   "outputs": [
    {
     "name": "stdout",
     "output_type": "stream",
     "text": [
      "<class 'dict'>\n",
      "{'name': '홍길동'}\n",
      "<class 'dict'>\n",
      "{'name': '홍길동', 'phone': '010-1234-5678'}\n",
      "<class 'dict'>\n",
      "{'name': '홍길동', 'phone': '010-1234-5678', 'age': 20}\n"
     ]
    }
   ],
   "source": [
    "names(name = '홍길동')\n",
    "names(name = '홍길동', phone = '010-1234-5678')\n",
    "names(name = '홍길동', phone = '010-1234-5678', age = 20)"
   ]
  },
  {
   "cell_type": "code",
   "execution_count": null,
   "id": "df72f0f6",
   "metadata": {},
   "outputs": [],
   "source": []
  },
  {
   "cell_type": "code",
   "execution_count": null,
   "id": "2c91315a",
   "metadata": {},
   "outputs": [],
   "source": []
  },
  {
   "cell_type": "code",
   "execution_count": null,
   "id": "0652af70",
   "metadata": {},
   "outputs": [],
   "source": []
  },
  {
   "cell_type": "code",
   "execution_count": null,
   "id": "818a36e8",
   "metadata": {},
   "outputs": [],
   "source": []
  }
 ],
 "metadata": {
  "kernelspec": {
   "display_name": "Python 3 (ipykernel)",
   "language": "python",
   "name": "python3"
  },
  "language_info": {
   "codemirror_mode": {
    "name": "ipython",
    "version": 3
   },
   "file_extension": ".py",
   "mimetype": "text/x-python",
   "name": "python",
   "nbconvert_exporter": "python",
   "pygments_lexer": "ipython3",
   "version": "3.9.7"
  }
 },
 "nbformat": 4,
 "nbformat_minor": 5
}
