{
 "cells": [
  {
   "cell_type": "code",
   "execution_count": null,
   "id": "fc81c259",
   "metadata": {},
   "outputs": [],
   "source": [
    "# #은 주석을 나타내며 프로그램 실행과는 아무 상관이 없다.\n",
    "# a -> 셀을 선택하고 a키를 누르면 선택된 셀 앞에 빈 셀을 새로 생성한다.\n",
    "# b -> 셀을 선택하고 b키를 누르면 선택된 셀 뒤에 빈 셀을 새로 생성한다.\n",
    "# dd -> 선택된 셀을 삭제한다.\n",
    "# z > undo 되돌리기\n",
    "# shift + enter -> 셀을 실행시키고 다음 셀을 선택한다.\n",
    "# ctrl + enter -> 셀을 실행시키고 현재 셀에 고정된다."
   ]
  },
  {
   "cell_type": "code",
   "execution_count": null,
   "id": "1bc0a7e6",
   "metadata": {},
   "outputs": [],
   "source": [
    "# print() 함수는 ()괄호 안에 들어간 내용을 출력하고 줄을 바꾼다.\n",
    "# 파이썬에서는 문자열을 출력할 때 큰따옴표와 작은따옴표를 구분하지 않는다.\n",
    "print(\"Hello, World!\")\n",
    "print(\"안녕하세요 여러분!\")\n",
    "print(\"Hi python!\")\n",
    "print('Hello, World!')"
   ]
  },
  {
   "cell_type": "code",
   "execution_count": null,
   "id": "fc6518e5",
   "metadata": {},
   "outputs": [],
   "source": [
    "# print()함수에서 줄을 변경하지 않으려면 end옵션을 사용하면 된다.\n",
    "print(\"Hello, World!\", end= ' ')\n",
    "print(\"안녕하세요 여러분!\")"
   ]
  },
  {
   "cell_type": "code",
   "execution_count": null,
   "id": "bcffffbe",
   "metadata": {},
   "outputs": [],
   "source": [
    "# print() 함수로 2개 이상의 데이터를 출력하려면 ','로 데이터를 구분하면 된다.\n",
    "# ','로 구분된 데이터 사이에 sep로 출력할 내용을 넣으면 사이에 출력된다. 설정을 하지 않으면 공백이 기본적으로 출력된다.\n",
    "print(\"Hello World!\", \"안녕하세요 여러분!\")\n",
    "print(\"Hello World!\", \"안녕하세요 여러분!\", sep='반가워요')"
   ]
  },
  {
   "cell_type": "code",
   "execution_count": null,
   "id": "77a689d3",
   "metadata": {},
   "outputs": [],
   "source": [
    "# 2개 이상의 데이터를 출력하려면 '+'연산자를 사용하면 된다.\n",
    "print(\"5\" + \"3\")\n",
    "print(\"동해물과\" + \"백두산이\" + \"마르고\" + \"닳도록\")"
   ]
  },
  {
   "cell_type": "code",
   "execution_count": null,
   "id": "583f3b3f",
   "metadata": {},
   "outputs": [],
   "source": [
    "print(\"동해물과\" + \"백두산이\" + \"마르고\" + \"닳도록\", sep='ㅋ')"
   ]
  },
  {
   "cell_type": "code",
   "execution_count": null,
   "id": "c1f728e3",
   "metadata": {
    "scrolled": true
   },
   "outputs": [],
   "source": [
    "# print() 함수로 특정 문자열을 지정한 개수 만큼 반복해서 출력하려면 '*'연산자를 사용하면 된다.\n",
    "print(\"=\" * 10)\n",
    "print(\"최고다! \" * 15)"
   ]
  },
  {
   "cell_type": "code",
   "execution_count": null,
   "id": "cc553d93",
   "metadata": {},
   "outputs": [],
   "source": [
    "# 다른종류의 따옴표 안에서는 따옴표가 출력된다.\n",
    "print(\" '<< 이것은 작은 따옴표 입니다.\")\n",
    "print(' \"<< 이것은 큰 따옴표 입니다.')\n",
    "print('고양이가 \"야옹\"하고 울었습니다.')\n",
    "print(\"강아지가 '멍멍'하고 짖었습니다.\")"
   ]
  }
 ],
 "metadata": {
  "kernelspec": {
   "display_name": "Python 3 (ipykernel)",
   "language": "python",
   "name": "python3"
  },
  "language_info": {
   "codemirror_mode": {
    "name": "ipython",
    "version": 3
   },
   "file_extension": ".py",
   "mimetype": "text/x-python",
   "name": "python",
   "nbconvert_exporter": "python",
   "pygments_lexer": "ipython3",
   "version": "3.11.3"
  }
 },
 "nbformat": 4,
 "nbformat_minor": 5
}
