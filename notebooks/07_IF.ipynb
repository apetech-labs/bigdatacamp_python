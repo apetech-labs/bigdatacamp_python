{
 "cells": [
  {
   "cell_type": "markdown",
   "id": "72246968",
   "metadata": {},
   "source": [
    "## 조건문(if)\n",
    "if 의 형식  \n",
    "if 조건식:  \n",
    "&nbsp;&nbsp;&nbsp;&nbsp;조건이 참일때 실행  \n",
    "else:  \n",
    "&nbsp;&nbsp;&nbsp;&nbsp;조건이 거짓일 때 실행  \n",
    "&nbsp;&nbsp;&nbsp;&nbsp;조건을 만족하지 않을 때 아무것도 하지 않으려면 생략 가능  "
   ]
  },
  {
   "cell_type": "markdown",
   "id": "feb81c15",
   "metadata": {},
   "source": [
    "### 비교연산자\n",
    "- \\> : 크다(초과)\n",
    "- \\>= : 크거나 같다\n",
    "- < : 작다\n",
    "- <= : 작거나 같다\n",
    "- == : 같다\n",
    "- != : 같지 않다."
   ]
  },
  {
   "cell_type": "markdown",
   "id": "8f6e389c",
   "metadata": {},
   "source": [
    "### 논리연산자\n",
    "- x or y : x와 y둘 중 하나만 참이여도 참이다 \n",
    "- x and y : x와 y 모두 참이여야 참이다\n",
    "- not x : x가 거짓이면 참이다."
   ]
  },
  {
   "cell_type": "code",
   "execution_count": 5,
   "id": "de981bda",
   "metadata": {},
   "outputs": [
    {
     "name": "stdout",
     "output_type": "stream",
     "text": [
      "a가 b보다 작습니다.\n"
     ]
    }
   ],
   "source": [
    "a = 3\n",
    "b = 4\n",
    "if a > b:\n",
    "    print('a가 b보다 큽니다.')\n",
    "else:\n",
    "    print('a가 b보다 작습니다.')"
   ]
  },
  {
   "cell_type": "code",
   "execution_count": 7,
   "id": "4ec9a163",
   "metadata": {},
   "outputs": [
    {
     "name": "stdout",
     "output_type": "stream",
     "text": [
      "나이를 입력해주세요: 10\n",
      "미성년자는 입장이 불가능합니다.\n"
     ]
    }
   ],
   "source": [
    "age = int(input(\"나이를 입력해주세요: \"))\n",
    "if age >= 20:\n",
    "    print(\"입장 가능합니다.\")\n",
    "else:\n",
    "    print(\"미성년자는 입장이 불가능합니다.\")"
   ]
  },
  {
   "cell_type": "code",
   "execution_count": 1,
   "id": "5c4ad241",
   "metadata": {
    "scrolled": true
   },
   "outputs": [
    {
     "name": "stdout",
     "output_type": "stream",
     "text": [
      "주민등록번호 13자리를 \"-\"없이 입력해주세요.: 9705313147444\n",
      "남자입니다.\n",
      "남자입니다.\n"
     ]
    }
   ],
   "source": [
    "# 둘리 주민등록번호 830422-1185600\n",
    "# 주민등록번호를 입력받고 성별을 판독하기\n",
    "jumin = input('주민등록번호 13자리를 \"-\"없이 입력해주세요.: ')\n",
    "\n",
    "# print(jumin[6])\n",
    "if jumin[6] == '1' or '3' or '5':\n",
    "    print('남자입니다.')\n",
    "else:\n",
    "    print('여자입니다.')\n",
    "    \n",
    "if int(jumin[6]) % 2 == 1:\n",
    "    print('남자입니다.')\n",
    "else:\n",
    "    print('여자입니다.')"
   ]
  },
  {
   "cell_type": "code",
   "execution_count": 18,
   "id": "c85cd09c",
   "metadata": {},
   "outputs": [
    {
     "name": "stdout",
     "output_type": "stream",
     "text": [
      "주민등록번호 13자리를 \"-\"없이 입력해주세요.: 97053114774411\n",
      "당신의 출생년도는 1997년 이고 만 26살 입니다.\n"
     ]
    }
   ],
   "source": [
    "jumin = input('주민등록번호 13자리를 \"-\"없이 입력해주세요.: ')\n",
    "year = int(jumin[:2])\n",
    "\n",
    "# 주민등록번호 뒷자리의 첫번째를 보고 출생연도 판단.\n",
    "if int(jumin[6]) <= 2:\n",
    "    year += 1900\n",
    "else:\n",
    "    year += 2000\n",
    "\n",
    "print('당신의 출생년도는 {}년 이고 만 {}살 입니다.'.format(year, 2023 - year))"
   ]
  },
  {
   "cell_type": "code",
   "execution_count": 23,
   "id": "558be32c",
   "metadata": {},
   "outputs": [
    {
     "name": "stdout",
     "output_type": "stream",
     "text": [
      "윤/평년을 판별할 년도를 입력해주세요.: 1900\n",
      "평년입니다.\n"
     ]
    }
   ],
   "source": [
    "# 윤년, 평년 판별\n",
    "# 윤년은 연도가 4로 나뉘어 떨어지고(and) 100으로 나뉘어떨어지지 않거나(or) 400으로 나뉘어 떨어지면 윤년이다.\n",
    "# 윤년은 연도가 4로 나뉘어 떨어지고 100으로 나뉘어떨어지지 않거나 400으로 나뉘어 떨어지면 윤년이다.\n",
    "year = int(input(\"윤/평년을 판별할 년도를 입력해주세요.: \"))\n",
    "\n",
    "\n",
    "if year % 4 == 0 and year % 100 != 0 or year % 400 == 0:\n",
    "    print(\"윤년입니다.\")\n",
    "else:\n",
    "    print(\"평년입니다.\")"
   ]
  },
  {
   "cell_type": "code",
   "execution_count": 25,
   "id": "3345e025",
   "metadata": {},
   "outputs": [
    {
     "name": "stdout",
     "output_type": "stream",
     "text": [
      "윤/평년을 판별할 년도를 입력해주세요.: 1900\n",
      "평년입니다.\n"
     ]
    }
   ],
   "source": [
    "year = int(input(\"윤/평년을 판별할 년도를 입력해주세요.: \"))\n",
    "\n",
    "leapYear = year % 4 == 0 and year % 100 != 0 or year % 400 == 0\n",
    "\n",
    "if leapYear:\n",
    "    print(\"윤년입니다.\")\n",
    "else:\n",
    "    print(\"평년입니다.\")"
   ]
  },
  {
   "cell_type": "code",
   "execution_count": 27,
   "id": "e2b47bbd",
   "metadata": {},
   "outputs": [
    {
     "name": "stdout",
     "output_type": "stream",
     "text": [
      "국어 점수를 입력해주세요.: 60\n",
      "영어 점수를 입력해주세요.: 60\n",
      "수학 점수를 입력해주세요.: 60\n",
      "평균: 60, 등급: D\n"
     ]
    }
   ],
   "source": [
    "kor = int(input(\"국어 점수를 입력해주세요.: \"))\n",
    "eng = int(input(\"영어 점수를 입력해주세요.: \"))\n",
    "mat = int(input(\"수학 점수를 입력해주세요.: \"))\n",
    "total = int(kor + eng + mat)\n",
    "mean = int(total / 3)\n",
    "\n",
    "if mean >= 90:\n",
    "    print('평균: {}, 등급: A'.format(mean))\n",
    "if mean <90 and mean >= 80:\n",
    "    print('평균: {}, 등급: B'.format(mean))\n",
    "if mean <80 and mean >= 70:\n",
    "    print('평균: {}, 등급: C'.format(mean))\n",
    "if mean <70 and mean >= 60:\n",
    "    print('평균: {}, 등급: D'.format(mean))\n",
    "if mean < 60:\n",
    "    print('평균: {}, 등급: F'.format(mean))"
   ]
  },
  {
   "cell_type": "code",
   "execution_count": 26,
   "id": "66d080e0",
   "metadata": {},
   "outputs": [
    {
     "name": "stdout",
     "output_type": "stream",
     "text": [
      "국어 점수를 입력해주세요.: 80\n",
      "영어 점수를 입력해주세요.: 80\n",
      "수학 점수를 입력해주세요.: 80\n",
      "평균: 80, 등급: B\n"
     ]
    }
   ],
   "source": [
    "kor = int(input(\"국어 점수를 입력해주세요.: \"))\n",
    "eng = int(input(\"영어 점수를 입력해주세요.: \"))\n",
    "mat = int(input(\"수학 점수를 입력해주세요.: \"))\n",
    "total = int(kor + eng + mat)\n",
    "mean = int(total / 3)\n",
    "\n",
    "if mean >= 90:\n",
    "    print('평균: {}, 등급: A'.format(mean))\n",
    "elif mean <90 and mean >= 80:\n",
    "    print('평균: {}, 등급: B'.format(mean))\n",
    "elif mean <80 and mean >= 70:\n",
    "    print('평균: {}, 등급: C'.format(mean))\n",
    "elif mean <70 and mean >= 60:\n",
    "    print('평균: {}, 등급: D'.format(mean))\n",
    "else:\n",
    "    print('평균: {}, 등급: F'.format(mean))"
   ]
  },
  {
   "cell_type": "code",
   "execution_count": null,
   "id": "0684cdbb",
   "metadata": {},
   "outputs": [],
   "source": []
  },
  {
   "cell_type": "code",
   "execution_count": null,
   "id": "c284fe19",
   "metadata": {},
   "outputs": [],
   "source": []
  },
  {
   "cell_type": "code",
   "execution_count": null,
   "id": "ddddb808",
   "metadata": {},
   "outputs": [],
   "source": []
  },
  {
   "cell_type": "code",
   "execution_count": null,
   "id": "00050cb3",
   "metadata": {},
   "outputs": [],
   "source": []
  }
 ],
 "metadata": {
  "kernelspec": {
   "display_name": "Python 3 (ipykernel)",
   "language": "python",
   "name": "python3"
  },
  "language_info": {
   "codemirror_mode": {
    "name": "ipython",
    "version": 3
   },
   "file_extension": ".py",
   "mimetype": "text/x-python",
   "name": "python",
   "nbconvert_exporter": "python",
   "pygments_lexer": "ipython3",
   "version": "3.9.7"
  }
 },
 "nbformat": 4,
 "nbformat_minor": 5
}
