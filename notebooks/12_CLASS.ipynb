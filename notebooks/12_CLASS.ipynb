{
 "cells": [
  {
   "cell_type": "markdown",
   "id": "d0062cc8",
   "metadata": {},
   "source": [
    "## 클래스(CLASS)\n",
    "class 클래스이름: # 클래스 이름은 다른 변수와 헷갈리지 않게 하기 위해서 일반적으로 첫 문자를 대문자로 만들어 사용한다.  \n",
    "생성자(초기자) 함수를 선언한다. => __init__  \n",
    "생성자(constructor)란 객체(클래스로 만든 변수)가 생성될 때 자동으로 실행되는 함수이다.  \n",
    "클래스 내부에서 선언하는 모든 함수는 첫 번째 인수로 무조건 self를 써야한다. => self로 클래스 객체가 메모리에 생성된  \n",
    "주소가 자동으로 넘어와 저장된다. => 객체가 생성된 주소로 객체와 객체를 식별한다.  \n",
    "생성자는 class의 멤버 변수(클래스 내부의 모든 함수에서 사용할 수 있는 변수)를 초기화 시키는 목적으로 사용된다.  \n",
    "def \\_\\_init\\_\\_(self[, 인수, ...]):  \n",
    "&nbsp;&nbsp;&nbsp;&nbsp;멤버 변수 초기화  \n",
    "&nbsp;&nbsp;&nbsp;&nbsp;변수 앞에 'self.'을 붙여서 선언하는 변수를 멤버 변수라 부르고 클래스 내부의 모든 함수에서 사용할 수 있다.  \n",
    "&nbsp;&nbsp;&nbsp;&nbsp;변수 앞에 'self.'을 붙여서 선언하지 않는 변수를 지역 변수라 부르고 클래스 변수가 선언된 함수에서만 사용할 수 있다.  "
   ]
  },
  {
   "cell_type": "code",
   "execution_count": null,
   "id": "7d52a92e",
   "metadata": {},
   "outputs": [],
   "source": []
  },
  {
   "cell_type": "code",
   "execution_count": null,
   "id": "be9e491d",
   "metadata": {},
   "outputs": [],
   "source": []
  },
  {
   "cell_type": "code",
   "execution_count": null,
   "id": "9b8a15fa",
   "metadata": {},
   "outputs": [],
   "source": []
  },
  {
   "cell_type": "code",
   "execution_count": null,
   "id": "bce504bb",
   "metadata": {},
   "outputs": [],
   "source": []
  },
  {
   "cell_type": "code",
   "execution_count": null,
   "id": "4014524a",
   "metadata": {},
   "outputs": [],
   "source": []
  },
  {
   "cell_type": "code",
   "execution_count": null,
   "id": "1886160f",
   "metadata": {},
   "outputs": [],
   "source": []
  },
  {
   "cell_type": "code",
   "execution_count": null,
   "id": "e6632e58",
   "metadata": {},
   "outputs": [],
   "source": []
  },
  {
   "cell_type": "code",
   "execution_count": null,
   "id": "0752504f",
   "metadata": {},
   "outputs": [],
   "source": []
  },
  {
   "cell_type": "code",
   "execution_count": null,
   "id": "a250b8b4",
   "metadata": {},
   "outputs": [],
   "source": []
  },
  {
   "cell_type": "code",
   "execution_count": null,
   "id": "c0ba86f8",
   "metadata": {},
   "outputs": [],
   "source": []
  },
  {
   "cell_type": "code",
   "execution_count": null,
   "id": "2129bd7e",
   "metadata": {},
   "outputs": [],
   "source": []
  }
 ],
 "metadata": {
  "kernelspec": {
   "display_name": "Python 3 (ipykernel)",
   "language": "python",
   "name": "python3"
  },
  "language_info": {
   "codemirror_mode": {
    "name": "ipython",
    "version": 3
   },
   "file_extension": ".py",
   "mimetype": "text/x-python",
   "name": "python",
   "nbconvert_exporter": "python",
   "pygments_lexer": "ipython3",
   "version": "3.9.7"
  }
 },
 "nbformat": 4,
 "nbformat_minor": 5
}
