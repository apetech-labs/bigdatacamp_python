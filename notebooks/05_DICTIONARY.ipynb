{
 "cells": [
  {
   "cell_type": "markdown",
   "id": "aaef8f06",
   "metadata": {},
   "source": [
    "## 딕셔너리(dictionary)\n",
    "- 자료를 대응관계로 저장할 수 있는 자료형\n",
    "- 연관배열(Associative array) 또는 해시(hash)라고 함\n",
    "- 파이썬에서는 연관배열을 딕셔너리(dictionary)라고 함\n",
    "- key값과 value값의 형태로 \":\"를 이용하여 자료구조를 만듬\n",
    "- 딕셔너리는 리스트나 튜플처럼 순차 데이터로 값을 찾는 것이 아니라 key와 value값을 통해서 값을 구함\n",
    "- 딕셔너리는 key, value값의 추가 및 삭제가 가능"
   ]
  },
  {
   "cell_type": "code",
   "execution_count": 2,
   "id": "167acc1d",
   "metadata": {},
   "outputs": [
    {
     "name": "stdout",
     "output_type": "stream",
     "text": [
      "{} {}\n",
      "<class 'dict'> <class 'dict'>\n"
     ]
    }
   ],
   "source": [
    "# 빈 딕셔너리 만들기\n",
    "a = {}\n",
    "b = dict()\n",
    "print(a, b)\n",
    "print(type(a), type(b))"
   ]
  },
  {
   "cell_type": "code",
   "execution_count": 1,
   "id": "1061d9bf",
   "metadata": {},
   "outputs": [
    {
     "name": "stdout",
     "output_type": "stream",
     "text": [
      "{'이대호': '1루수', '이승엽': '지명타자', '김하성': '유격수', '이정후': '내야수'}\n",
      "<class 'dict'>\n"
     ]
    }
   ],
   "source": [
    "baseball = {'이대호' :'1루수', '이승엽' : '지명타자', '김하성' : '유격수', '이정후' : '내야수'}\n",
    "print(baseball)\n",
    "print(type(baseball))"
   ]
  },
  {
   "cell_type": "code",
   "execution_count": 3,
   "id": "c59f14dd",
   "metadata": {},
   "outputs": [
    {
     "ename": "KeyError",
     "evalue": "0",
     "output_type": "error",
     "traceback": [
      "\u001b[1;31m---------------------------------------------------------------------------\u001b[0m",
      "\u001b[1;31mKeyError\u001b[0m                                  Traceback (most recent call last)",
      "Cell \u001b[1;32mIn[3], line 1\u001b[0m\n\u001b[1;32m----> 1\u001b[0m \u001b[43mbaseball\u001b[49m\u001b[43m[\u001b[49m\u001b[38;5;241;43m0\u001b[39;49m\u001b[43m]\u001b[49m\n",
      "\u001b[1;31mKeyError\u001b[0m: 0"
     ]
    }
   ],
   "source": [
    "baseball[0]"
   ]
  },
  {
   "cell_type": "code",
   "execution_count": 4,
   "id": "8b6e8228",
   "metadata": {},
   "outputs": [
    {
     "ename": "KeyError",
     "evalue": "'1루수'",
     "output_type": "error",
     "traceback": [
      "\u001b[1;31m---------------------------------------------------------------------------\u001b[0m",
      "\u001b[1;31mKeyError\u001b[0m                                  Traceback (most recent call last)",
      "Cell \u001b[1;32mIn[4], line 1\u001b[0m\n\u001b[1;32m----> 1\u001b[0m \u001b[43mbaseball\u001b[49m\u001b[43m[\u001b[49m\u001b[38;5;124;43m\"\u001b[39;49m\u001b[38;5;124;43m1루수\u001b[39;49m\u001b[38;5;124;43m\"\u001b[39;49m\u001b[43m]\u001b[49m\n",
      "\u001b[1;31mKeyError\u001b[0m: '1루수'"
     ]
    }
   ],
   "source": [
    "baseball[\"1루수\"]"
   ]
  },
  {
   "cell_type": "code",
   "execution_count": 5,
   "id": "61f3c206",
   "metadata": {},
   "outputs": [
    {
     "name": "stdout",
     "output_type": "stream",
     "text": [
      "{'이대호': '1루수', '이승엽': '지명타자', '김하성': '유격수', '이정후': '내야수', '최정': '3루수'}\n",
      "{'이대호': '1루수', '이승엽': '지명타자', '김하성': '유격수', '이정후': '중견수', '최정': '3루수'}\n"
     ]
    }
   ],
   "source": [
    "# 딕셔너리에 데이터 추가 및 수정하기\n",
    "# 존재하지 않는 key에 데이터를 할당하면 추가되고 존재하는 key에 데이터를 할당하면 추가된다.\n",
    "baseball['최정'] = '3루수'\n",
    "print(baseball)\n",
    "baseball['이정후'] = '중견수'\n",
    "print(baseball)"
   ]
  },
  {
   "cell_type": "code",
   "execution_count": 10,
   "id": "464c5723",
   "metadata": {},
   "outputs": [
    {
     "name": "stdout",
     "output_type": "stream",
     "text": [
      "지명타자\n",
      "유격수\n"
     ]
    }
   ],
   "source": [
    "# 딕셔너리에 저장된 데이터 얻어오기\n",
    "print(baseball['이승엽'])\n",
    "print(baseball.get('김하성'))"
   ]
  },
  {
   "cell_type": "code",
   "execution_count": 11,
   "id": "46f41b91",
   "metadata": {},
   "outputs": [
    {
     "name": "stdout",
     "output_type": "stream",
     "text": [
      "{'이대호': '1루수', '이승엽': '지명타자', '김하성': '유격수', '이정후': '중견수'}\n"
     ]
    }
   ],
   "source": [
    "# 딕셔너리에 저장된 데이터 삭제하기\n",
    "del(baseball['최정'])\n",
    "print(baseball)"
   ]
  },
  {
   "cell_type": "code",
   "execution_count": 15,
   "id": "29e4b9c8",
   "metadata": {},
   "outputs": [
    {
     "name": "stdout",
     "output_type": "stream",
     "text": [
      "dict_keys(['이대호', '이승엽', '김하성', '이정후'])\n",
      "dict_values(['1루수', '지명타자', '유격수', '중견수'])\n",
      "dict_items([('이대호', '1루수'), ('이승엽', '지명타자'), ('김하성', '유격수'), ('이정후', '중견수')])\n"
     ]
    }
   ],
   "source": [
    "# keys() 를 이용하여 딕셔너리에서 key값만 얻어올 수 있다.\n",
    "print(baseball.keys())\n",
    "# values() 를 이용하여 딕셔너리에서 value 목록만 얻어올 수 있다.\n",
    "print(baseball.values())\n",
    "# items()를 이용하여 딕셔너리에서 key와 value를 한 쌍으로 묵은 튜플을 가져올 수 있다. \n",
    "print(baseball.items())"
   ]
  },
  {
   "cell_type": "code",
   "execution_count": null,
   "id": "9b45b50c",
   "metadata": {},
   "outputs": [],
   "source": []
  },
  {
   "cell_type": "code",
   "execution_count": null,
   "id": "53a12c26",
   "metadata": {},
   "outputs": [],
   "source": []
  },
  {
   "cell_type": "code",
   "execution_count": null,
   "id": "47f6b208",
   "metadata": {},
   "outputs": [],
   "source": []
  }
 ],
 "metadata": {
  "kernelspec": {
   "display_name": "Python 3 (ipykernel)",
   "language": "python",
   "name": "python3"
  },
  "language_info": {
   "codemirror_mode": {
    "name": "ipython",
    "version": 3
   },
   "file_extension": ".py",
   "mimetype": "text/x-python",
   "name": "python",
   "nbconvert_exporter": "python",
   "pygments_lexer": "ipython3",
   "version": "3.9.7"
  }
 },
 "nbformat": 4,
 "nbformat_minor": 5
}
