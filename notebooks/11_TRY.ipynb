{
 "cells": [
  {
   "cell_type": "markdown",
   "id": "24ed9d58",
   "metadata": {},
   "source": [
    "## 예외처리(try)\n",
    "프로그램을 실행할 때 잘못 동작되는 것을 방지하기 위해서 오류가 발생된다. => 오류가 발생되면 프로그램이 멈춘다.  \n",
    "try ~ except를 사용하면 오류가 발생되었을 때 별도의 처리를 하거나 오류를 무시하고 프로그램을 실행할 수 있다.  \n",
    "***  \n",
    "오류가 발생될 것으로 예상되는 문장을 try 블록에 코딩하고 try 블록에 코딩된 내용을 실행하다가 오류가 발생되면 더 이상 try블록의 내용을 실행하지 않고 해당 오류의 except 블록에 코딩한 내용을 실행한다.  \n",
    "***  \n",
    "try: # 필수  \n",
    "&nbsp;&nbsp;&nbsp;&nbsp;오류가 발생될 것으로 예상되는 문장  \n",
    "&nbsp;&nbsp;&nbsp;&nbsp;...  \n",
    "except [오류 이름[as 변수 이름]]: # 필수 => [] 안의 오류 이름과 변수 이름은 생략할 수 있다.  \n",
    "&nbsp;&nbsp;&nbsp;&nbsp;오류가 발생되면 실행할 문장  \n",
    "&nbsp;&nbsp;&nbsp;&nbsp;...  \n",
    "finally: # 선택 => 필요할 경우 사용한다.  \n",
    "&nbsp;&nbsp;&nbsp;&nbsp;오류 발생 여부와 상관없이 실행할 문장이 있다면 finally 블록에 코딩한다.  \n",
    "&nbsp;&nbsp;&nbsp;&nbsp;...  "
   ]
  },
  {
   "cell_type": "code",
   "execution_count": 2,
   "id": "1b1cf215",
   "metadata": {},
   "outputs": [
    {
     "name": "stdout",
     "output_type": "stream",
     "text": [
      "4.0\n",
      "나눗셈은 0으로 할 수 없습니다.\n",
      "실행완료\n"
     ]
    }
   ],
   "source": [
    "try:\n",
    "    print(4 / 1) # 이 문장은 정상적으로 실행된다.\n",
    "    print(4 / 0) # ZeroDivisionError가 발생된다.\n",
    "    print(4 / 4) # 정상적인 문장이지만 앞에서 오류가 발생되면 이 문장은 실행되지 않는다.\n",
    "except:\n",
    "    # 오류가 발생되면 아무런 일도 하지 않고 오류를 무시하려면 아래와 같이 pass를 사용하면 된다.\n",
    "    # pass\n",
    "    print('나눗셈은 0으로 할 수 없습니다.') # 오류 메시지\n",
    "print('실행완료')"
   ]
  },
  {
   "cell_type": "code",
   "execution_count": 3,
   "id": "b7cb6f54",
   "metadata": {},
   "outputs": [
    {
     "name": "stdout",
     "output_type": "stream",
     "text": [
      "아쉽지만 오늘이 종강이네요\n",
      "오류가 발생되던 발생하지 않던 무조건 실행할 문장이 있다면 이곳에 코딩한다.\n",
      "실행완료\n"
     ]
    }
   ],
   "source": [
    "data = [1, 2, 3]\n",
    "string = '아쉽지만 오늘이 종강이네요'\n",
    "try:\n",
    "    # print(4 / 0) # ZeroDivisionError\n",
    "    # print(data[3]) # IndexError\n",
    "    print(string)\n",
    "    # print('%d' % string) # TypeError\n",
    "# except 뒤에 오류 이름을 쓰면 지정된 오류가 발생될 때에만 오류를 처리한다.\n",
    "except ZeroDivisionError: # ZeroDivisionError가 발생될 때만 오류를 처리한다.\n",
    "    print('나눗셈은 0으로 할 수 없습니다.')\n",
    "# except 뒤에 오류 이름을 쓰고 as 다음에 변수를 지정하면 파이썬이 출력하는 에러 메시지가 변수에 저장된다.\n",
    "except IndexError as err: # IndexError가 발생될 때만 오류를 처리한다.\n",
    "    print('리스트의 인덱스 지정이 올바르지 않습니다.')\n",
    "    print(err)\n",
    "# ZeroDivisionError, IndexError를 제외한 나머지 오류가 발생되면 이곳에 코딩한 문장이 실행된다.\n",
    "# except만 쓰고 뒤에 오류 이름을 쓰지 않으면 모든 종류의 오류를 모두 처리한다.\n",
    "# except 만 사용하는 경우에는 반드시 맨 마지막에 코딩해야 한다.\n",
    "except:\n",
    "    print('데이터 타입이 올바르지 않습니다.')\n",
    "finally:\n",
    "    print('오류가 발생되던 발생하지 않던 무조건 실행할 문장이 있다면 이곳에 코딩한다.')\n",
    "print('실행완료')"
   ]
  },
  {
   "cell_type": "code",
   "execution_count": null,
   "id": "347faa82",
   "metadata": {},
   "outputs": [],
   "source": []
  },
  {
   "cell_type": "code",
   "execution_count": null,
   "id": "726bdc6e",
   "metadata": {},
   "outputs": [],
   "source": []
  },
  {
   "cell_type": "code",
   "execution_count": null,
   "id": "dc3d9e01",
   "metadata": {},
   "outputs": [],
   "source": []
  }
 ],
 "metadata": {
  "kernelspec": {
   "display_name": "Python 3 (ipykernel)",
   "language": "python",
   "name": "python3"
  },
  "language_info": {
   "codemirror_mode": {
    "name": "ipython",
    "version": 3
   },
   "file_extension": ".py",
   "mimetype": "text/x-python",
   "name": "python",
   "nbconvert_exporter": "python",
   "pygments_lexer": "ipython3",
   "version": "3.9.7"
  }
 },
 "nbformat": 4,
 "nbformat_minor": 5
}
