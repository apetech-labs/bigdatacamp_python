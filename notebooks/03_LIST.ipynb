{
 "cells": [
  {
   "cell_type": "markdown",
   "id": "753faa8a",
   "metadata": {},
   "source": [
    "## 리스트(list)\n",
    "- 다양한 개별 데이터를 모아서 사용할 수 있는 자료형\n",
    "- 대괄호[  ] 내부에 자료를 넣어서 선언한다.\n",
    "- 리스트의 대괄호 내부에 넣는 것을 요소(element)라고 하며, 숫자, 문자열 등 다양한 조합으로 사용이 가능하다.\n",
    "- 리스트(list)의 내용은 값을 변경할 수 있다."
   ]
  },
  {
   "cell_type": "code",
   "execution_count": null,
   "id": "d18dc45d",
   "metadata": {},
   "outputs": [],
   "source": [
    "num_list = [1, 2, 3]\n",
    "print(num_list)\n",
    "print(type(num_list))"
   ]
  },
  {
   "cell_type": "code",
   "execution_count": null,
   "id": "2908f9ca",
   "metadata": {},
   "outputs": [],
   "source": [
    "str_list = [\"이대호\", \"류현진\", \"박찬호\"]\n",
    "print(str_list)"
   ]
  },
  {
   "cell_type": "code",
   "execution_count": null,
   "id": "69b33644",
   "metadata": {},
   "outputs": [],
   "source": [
    "str_list = [\"이대호\", \"류현진\", \"박찬호\", True, False, 1, 2, 3]\n",
    "print(str_list)"
   ]
  },
  {
   "cell_type": "code",
   "execution_count": null,
   "id": "03697068",
   "metadata": {},
   "outputs": [],
   "source": [
    "sports = [['맨유', '맨시티', '레알마드리드'], ['ssg', 'lg', 'nc']]\n",
    "print(sports)"
   ]
  },
  {
   "cell_type": "code",
   "execution_count": null,
   "id": "805ea709",
   "metadata": {},
   "outputs": [],
   "source": [
    "# 리스트도 문자열과 마찬가지로 인덱싱과 슬라이싱이 가능하다.\n",
    "# 리스트를 슬라이싱 할 시 리스트형태로 나오게 된다.\n",
    "baseball = [\"이대호\", \"류현진\", \"박찬호\", \"유희관\", \"이승엽\"]\n",
    "print(baseball)\n",
    "print(baseball[0])\n",
    "print(baseball[0:3])\n",
    "print(baseball[::-1])\n",
    "print(baseball[0:])"
   ]
  },
  {
   "cell_type": "code",
   "execution_count": null,
   "id": "5d4ae69a",
   "metadata": {},
   "outputs": [],
   "source": [
    "# 리스트 안에 들어간 리스트에서도 데이터 인덱싱과 슬라이싱이 가능하다\n",
    "a = [1, 2, 3, ['a', 'b', ['이대호', '이승엽']]]\n",
    "print(a)\n",
    "print(a[3])\n",
    "print(a[3][2])\n",
    "print(a[3][2][0])"
   ]
  },
  {
   "cell_type": "code",
   "execution_count": null,
   "id": "85298e50",
   "metadata": {},
   "outputs": [],
   "source": [
    "# +연산자는 두 개의 리스트를 연결한다.\n",
    "print([1, 2, 3] + [4, 5, 6, 7])\n",
    "# *연산자는 리스트를 지정된 횟수만큼 반복한다.\n",
    "print([1, 2, 3] * 3)\n"
   ]
  },
  {
   "cell_type": "code",
   "execution_count": null,
   "id": "ae897609",
   "metadata": {},
   "outputs": [],
   "source": [
    "print([1, 2, 3] + [1, 2, 3])"
   ]
  },
  {
   "cell_type": "code",
   "execution_count": null,
   "id": "0a9f1b1c",
   "metadata": {},
   "outputs": [],
   "source": [
    "a = [1,2,3]; b= [2,3,4]"
   ]
  },
  {
   "cell_type": "code",
   "execution_count": null,
   "id": "ca4f54c2",
   "metadata": {},
   "outputs": [],
   "source": [
    "# 리스트 안에 들어간 데이터를 인덱싱을 통해 변경이 가능하다.\n",
    "baseball = ['이대호', '이승엽', '류현진', '박찬호']\n",
    "baseball[2] = '유희관'\n",
    "print(baseball)"
   ]
  },
  {
   "cell_type": "code",
   "execution_count": null,
   "id": "95cbfa8c",
   "metadata": {},
   "outputs": [],
   "source": [
    "# del을 통해서 리스트 안에 들어가 있는 데이터를 제거 할 수 있다.\n",
    "baseball = ['이대호', '이승엽', '류현진', '박찬호']\n",
    "del baseball[0]\n",
    "print(baseball)"
   ]
  },
  {
   "cell_type": "code",
   "execution_count": null,
   "id": "84815047",
   "metadata": {},
   "outputs": [],
   "source": [
    "baseball = ['이대호', '이승엽', '류현진', '박찬호']\n",
    "del baseball[2:]\n",
    "print(baseball)"
   ]
  },
  {
   "cell_type": "code",
   "execution_count": null,
   "id": "7244987f",
   "metadata": {},
   "outputs": [],
   "source": [
    "# append() 를 사용하면 리스트에 요소를 추가할 수 있다.\n",
    "baseball = ['이대호', '이승엽', '류현진', '박찬호']\n",
    "baseball.append('추신수')\n",
    "print(baseball)"
   ]
  },
  {
   "cell_type": "code",
   "execution_count": null,
   "id": "d0b43273",
   "metadata": {},
   "outputs": [],
   "source": [
    "# sort() 함수를 이용해서 리스트의 요소를 정렬해 줄 수 있다.\n",
    "# 숫자, 영어, 한글등에 순서대로 정렬이 가능하다.\n",
    "eng = ['b', 'a', 'd', 'f', 'z']\n",
    "eng.sort()\n",
    "print(eng)\n",
    "num = [1, 5, 4, 2, 3]\n",
    "num.sort()\n",
    "print(num)\n",
    "name = ['가갑순', '홍길동', '이대호', '류현진']\n",
    "name.sort()\n",
    "print(name)\n",
    "\n",
    "# sort는 리스트 안에 같은 데이터 타입이 있을 때만 정렬이 가능하다.\n",
    "number = ['3', 2, '5', 1, 4]\n",
    "# number.sort()"
   ]
  },
  {
   "cell_type": "code",
   "execution_count": null,
   "id": "61816d0c",
   "metadata": {},
   "outputs": [],
   "source": [
    "# reverse=True 옵션을 지정하면 내림차순으로 정렬이 가능하다.\n",
    "eng = ['b', 'a', 'd', 'f', 'z']\n",
    "eng.sort(reverse=True)\n",
    "print(eng)\n",
    "num = [1, 5, 4, 2, 3]\n",
    "num.sort(reverse=True)\n",
    "print(num)\n",
    "name = ['가갑순', '홍길동', '이대호', '류현진']\n",
    "name.sort(reverse=True)\n",
    "print(name)"
   ]
  },
  {
   "cell_type": "code",
   "execution_count": null,
   "id": "ffc3710c",
   "metadata": {},
   "outputs": [],
   "source": [
    "# reverse() 를 이용하여 리스트를 정렬하지 않은 상태로 거꾸로 뒤집는다.\n",
    "baseball = ['이대호', '이승엽', '류현진', '박찬호']\n",
    "baseball.reverse()\n",
    "print(baseball)"
   ]
  },
  {
   "cell_type": "code",
   "execution_count": null,
   "id": "360ed4b0",
   "metadata": {},
   "outputs": [],
   "source": [
    "baseball = ['이대호', '이승엽', '류현진', '박찬호']\n",
    "baseball.index('류현진')"
   ]
  },
  {
   "cell_type": "code",
   "execution_count": null,
   "id": "5bda137d",
   "metadata": {},
   "outputs": [],
   "source": [
    "# index() 를 이용하여 인덱스값(위치)을 리턴한다.\n",
    "number = [1, 2, 3, 4, 5]\n",
    "number.index(3)"
   ]
  },
  {
   "cell_type": "code",
   "execution_count": null,
   "id": "eb1b1e2d",
   "metadata": {},
   "outputs": [],
   "source": [
    "# insert(a, b)를 이용하여 리스트의 a번째 위치에 b를 넣을 수 있다.\n",
    "number = [1, 2, 3, 5]\n",
    "number.insert(3, 4)\n",
    "number"
   ]
  },
  {
   "cell_type": "code",
   "execution_count": null,
   "id": "e7cdc278",
   "metadata": {},
   "outputs": [],
   "source": [
    "# remove(a)를 이용하여 리스트에서 처음으로 나오는 a값을 삭제할 수 있다.\n",
    "number = [1, 2, 2, 3, 4, 5]\n",
    "number.remove(2)\n",
    "print(number)"
   ]
  },
  {
   "cell_type": "code",
   "execution_count": null,
   "id": "f93bea18",
   "metadata": {},
   "outputs": [],
   "source": [
    "str_list = [\"최정\", \"노시환\", \"박동원\", \"최주환\", \"양석환\"]\n",
    "str_list.remove(\"박동원\")\n",
    "print(str_list)"
   ]
  },
  {
   "cell_type": "code",
   "execution_count": null,
   "id": "2d97fd2c",
   "metadata": {},
   "outputs": [],
   "source": [
    "# pop()은 리스트의 맨 마지막 요소를 리턴시키고 요소는 리스트에서 삭제시킨다.\n",
    "number = [1, 2, 3, 4, 5]\n",
    "number.pop()"
   ]
  },
  {
   "cell_type": "code",
   "execution_count": null,
   "id": "b29c87ba",
   "metadata": {},
   "outputs": [],
   "source": [
    "print(number)"
   ]
  },
  {
   "cell_type": "code",
   "execution_count": null,
   "id": "513ab118",
   "metadata": {},
   "outputs": [],
   "source": [
    "# count()를 활용하여 리스트 안의 요소의 개수를 확인할 수 있다.\n",
    "number = [1, 1, 2, 3, 4, 1, 5]\n",
    "number.count(1)"
   ]
  },
  {
   "cell_type": "code",
   "execution_count": null,
   "id": "71dad4ab",
   "metadata": {},
   "outputs": [],
   "source": [
    "a = list()\n",
    "print(a)"
   ]
  },
  {
   "cell_type": "code",
   "execution_count": null,
   "id": "b4be7fb2",
   "metadata": {},
   "outputs": [],
   "source": []
  },
  {
   "cell_type": "code",
   "execution_count": null,
   "id": "15175622",
   "metadata": {},
   "outputs": [],
   "source": []
  },
  {
   "cell_type": "code",
   "execution_count": null,
   "id": "834528fb",
   "metadata": {},
   "outputs": [],
   "source": []
  },
  {
   "cell_type": "code",
   "execution_count": null,
   "id": "a7cf6fd3",
   "metadata": {},
   "outputs": [],
   "source": []
  },
  {
   "cell_type": "code",
   "execution_count": null,
   "id": "86f67af0",
   "metadata": {},
   "outputs": [],
   "source": []
  },
  {
   "cell_type": "code",
   "execution_count": null,
   "id": "7e2b7d3f",
   "metadata": {},
   "outputs": [],
   "source": []
  },
  {
   "cell_type": "code",
   "execution_count": null,
   "id": "26f90fe1",
   "metadata": {},
   "outputs": [],
   "source": []
  },
  {
   "cell_type": "code",
   "execution_count": null,
   "id": "259de9f2",
   "metadata": {},
   "outputs": [],
   "source": []
  },
  {
   "cell_type": "code",
   "execution_count": null,
   "id": "51436eb6",
   "metadata": {},
   "outputs": [],
   "source": []
  },
  {
   "cell_type": "code",
   "execution_count": null,
   "id": "61f7d00c",
   "metadata": {},
   "outputs": [],
   "source": []
  }
 ],
 "metadata": {
  "kernelspec": {
   "display_name": "Python 3 (ipykernel)",
   "language": "python",
   "name": "python3"
  },
  "language_info": {
   "codemirror_mode": {
    "name": "ipython",
    "version": 3
   },
   "file_extension": ".py",
   "mimetype": "text/x-python",
   "name": "python",
   "nbconvert_exporter": "python",
   "pygments_lexer": "ipython3",
   "version": "3.11.3"
  }
 },
 "nbformat": 4,
 "nbformat_minor": 5
}
